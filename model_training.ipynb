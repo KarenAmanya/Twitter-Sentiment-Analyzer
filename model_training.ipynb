{
 "cells": [
  {
   "cell_type": "code",
   "execution_count": 12,
   "metadata": {},
   "outputs": [],
   "source": [
    "import pandas as pd\n",
    "from sklearn.linear_model import  LogisticRegression\n",
    "from sklearn import preprocessing\n",
    "from cleaner import *\n",
    "from sklearn.feature_extraction.text import CountVectorizer\n",
    "from sklearn.model_selection import train_test_split\n",
    "from sklearn.preprocessing import StandardScaler"
   ]
  },
  {
   "cell_type": "code",
   "execution_count": 18,
   "metadata": {},
   "outputs": [],
   "source": [
    "from cleaner import *\n",
    "from sklearn.feature_extraction.text import CountVectorizer\n",
    "\n",
    "Data=pd.read_csv('Tranining_set.csv')\n",
    "#clean tweets\n",
    "tweets=clean_data(Data)\n",
    "\n",
    "#Features\n",
    "X=tweets.text\n",
    "vectorizer=CountVectorizer()\n",
    "vectorizer.fit(X)\n",
    "X=vectorizer.transform(X).toarray()\n",
    "\n",
    "# Target\n",
    "y=Data.Label.values"
   ]
  },
  {
   "cell_type": "code",
   "execution_count": 24,
   "metadata": {},
   "outputs": [
    {
     "name": "stdout",
     "output_type": "stream",
     "text": [
      "       text     Label\n",
      "0 -1.413716 -1.334688\n",
      "1  0.622111  1.370761\n",
      "2  1.379628  1.370761\n",
      "3 -1.674112 -1.334688\n",
      "4  0.196007  0.018036\n"
     ]
    },
    {
     "data": {
      "text/html": [
       "<div>\n",
       "<style scoped>\n",
       "    .dataframe tbody tr th:only-of-type {\n",
       "        vertical-align: middle;\n",
       "    }\n",
       "\n",
       "    .dataframe tbody tr th {\n",
       "        vertical-align: top;\n",
       "    }\n",
       "\n",
       "    .dataframe thead th {\n",
       "        text-align: right;\n",
       "    }\n",
       "</style>\n",
       "<table border=\"1\" class=\"dataframe\">\n",
       "  <thead>\n",
       "    <tr style=\"text-align: right;\">\n",
       "      <th></th>\n",
       "      <th>text</th>\n",
       "      <th>Label</th>\n",
       "    </tr>\n",
       "  </thead>\n",
       "  <tbody>\n",
       "    <tr>\n",
       "      <th>0</th>\n",
       "      <td>1.317241</td>\n",
       "      <td>0.194006</td>\n",
       "    </tr>\n",
       "    <tr>\n",
       "      <th>1</th>\n",
       "      <td>-1.732497</td>\n",
       "      <td>-1.216581</td>\n",
       "    </tr>\n",
       "    <tr>\n",
       "      <th>2</th>\n",
       "      <td>1.585123</td>\n",
       "      <td>0.194006</td>\n",
       "    </tr>\n",
       "    <tr>\n",
       "      <th>3</th>\n",
       "      <td>1.513001</td>\n",
       "      <td>0.194006</td>\n",
       "    </tr>\n",
       "    <tr>\n",
       "      <th>4</th>\n",
       "      <td>0.781476</td>\n",
       "      <td>1.604594</td>\n",
       "    </tr>\n",
       "  </tbody>\n",
       "</table>\n",
       "</div>"
      ],
      "text/plain": [
       "       text     Label\n",
       "0  1.317241  0.194006\n",
       "1 -1.732497 -1.216581\n",
       "2  1.585123  0.194006\n",
       "3  1.513001  0.194006\n",
       "4  0.781476  1.604594"
      ]
     },
     "execution_count": 24,
     "metadata": {},
     "output_type": "execute_result"
    }
   ],
   "source": [
    "#Encoding the categories\n",
    "Data2=Data.copy()\n",
    "\n",
    "X=Data2\n",
    "y=Data2.Label.values\n",
    "\n",
    "X_train,X_test,y_train,y_test=train_test_split(X,y, random_state=42, test_size=0.3)\n",
    "category=['Label','text']\n",
    "\n",
    "for i in category:\n",
    "    LE=preprocessing.LabelEncoder()\n",
    "    X_train[i]=LE.fit_transform(X_train[i])\n",
    "    X_test[i]=LE.fit_transform(X_test[i])\n",
    "   \n",
    "\n",
    "#Feature scaling\n",
    "from sklearn.preprocessing import StandardScaler\n",
    "scaler=StandardScaler()\n",
    "X_train=pd.DataFrame(scaler.fit_transform(X_train),columns=X.columns)\n",
    "X_test=pd.DataFrame(scaler.fit_transform(X_test),columns=X.columns)\n",
    "\n",
    "print(X_test.head())\n",
    "X_train.head()"
   ]
  },
  {
   "cell_type": "code",
   "execution_count": 22,
   "metadata": {},
   "outputs": [
    {
     "data": {
      "text/plain": [
       "LogisticRegression()"
      ]
     },
     "execution_count": 22,
     "metadata": {},
     "output_type": "execute_result"
    }
   ],
   "source": [
    "LogReg=LogisticRegression()\n",
    "LogReg.fit(X_train,y_train)"
   ]
  },
  {
   "cell_type": "code",
   "execution_count": 23,
   "metadata": {},
   "outputs": [
    {
     "name": "stdout",
     "output_type": "stream",
     "text": [
      "Model accuracy score : 100.0%\n"
     ]
    }
   ],
   "source": [
    "y_pred=LogReg.predict(X_test)\n",
    "\n",
    "from sklearn.metrics import accuracy_score\n",
    "ac_score=round(accuracy_score(y_pred,y_test),2) *100\n",
    "print(f'Model accuracy score : {ac_score}%')"
   ]
  },
  {
   "cell_type": "code",
   "execution_count": null,
   "metadata": {},
   "outputs": [],
   "source": []
  }
 ],
 "metadata": {
  "interpreter": {
   "hash": "aee2424302c29036de9855f14b85ac5fa0dc8f178e03af7647152f738b3aa934"
  },
  "kernelspec": {
   "display_name": "Python 3.10.2 64-bit",
   "language": "python",
   "name": "python3"
  },
  "language_info": {
   "codemirror_mode": {
    "name": "ipython",
    "version": 3
   },
   "file_extension": ".py",
   "mimetype": "text/x-python",
   "name": "python",
   "nbconvert_exporter": "python",
   "pygments_lexer": "ipython3",
   "version": "3.10.2"
  },
  "orig_nbformat": 4
 },
 "nbformat": 4,
 "nbformat_minor": 2
}
